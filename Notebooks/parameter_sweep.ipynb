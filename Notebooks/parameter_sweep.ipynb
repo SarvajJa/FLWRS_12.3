{
 "cells": [
  {
   "cell_type": "markdown",
   "id": "43c12fe2",
   "metadata": {},
   "source": [
    "# Parameter sweep: alpha & epsilon\n",
    "Run a small parameter sweep to illustrate how alpha (fractional exponent) and eps (Luminissance amplitude) affect spectral slope and modal damping."
   ]
  },
  {
   "cell_type": "code",
   "execution_count": null,
   "id": "2d386059",
   "metadata": {},
   "outputs": [],
   "source": [
    "\n",
    "import numpy as np, matplotlib.pyplot as plt\n",
    "from numpy.fft import fft, ifft, fftfreq, fftshift\n",
    "%matplotlib inline\n",
    "L = 10.0; N = 512; x = np.linspace(0,L,N,endpoint=False); k = fftfreq(N,d=L/N)*2*np.pi\n",
    "def make_u0():\n",
    "    return np.exp(-0.5*((x-L/2)/0.5)**2) * np.exp(1j*3*(x-L/2))\n",
    "u0 = make_u0(); u0_hat = fft(u0)\n",
    "alphas = [1.2, 1.6, 2.0]\n",
    "epss = [0.0, 1e-3, 1e-2]\n",
    "fig,axs = plt.subplots(len(alphas), len(epss), figsize=(12,8), sharex=True, sharey=True)\n",
    "for i,alpha in enumerate(alphas):\n",
    "    for j,eps in enumerate(epss):\n",
    "        s = np.exp(-0.5*((np.abs(k)-3)/0.6)**2)\n",
    "        sigma = 1 - eps*s + 1j*(eps*0.2*s)\n",
    "        u_after = ifft(sigma * u0_hat)\n",
    "        P = np.abs(fft(u_after))**2\n",
    "        axs[i,j].semilogy(fftshift(P)+1e-16)\n",
    "        if i==0: axs[i,j].set_title(f\"eps={eps}\")\n",
    "        if j==0: axs[i,j].set_ylabel(f\"alpha={alpha}\")\n",
    "plt.tight_layout()\n",
    "plt.show()\n"
   ]
  },
  {
   "cell_type": "markdown",
   "id": "256216b5",
   "metadata": {},
   "source": [
    "The figure grid shows how different alpha and eps combinations modulate spectral power. Use larger N and time integration for dynamical studies."
   ]
  }
 ],
 "metadata": {},
 "nbformat": 4,
 "nbformat_minor": 5
}
