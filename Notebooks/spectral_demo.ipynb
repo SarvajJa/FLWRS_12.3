{
 "cells": [
  {
   "cell_type": "markdown",
   "id": "bf04202a",
   "metadata": {},
   "source": [
    "# FLWRS spectral demo\n",
    "This notebook demonstrates a minimal 1D spectral solver with a fractional Laplacian and a simple Luminissance spectral multiplier. It is intentionally small and runnable on a laptop.\n",
    "\n",
    "**Dependencies:** numpy, scipy, matplotlib"
   ]
  },
  {
   "cell_type": "code",
   "execution_count": null,
   "id": "e646d809",
   "metadata": {},
   "outputs": [],
   "source": [
    "\n",
    "import numpy as np\n",
    "import matplotlib.pyplot as plt\n",
    "from numpy.fft import fft, ifft, fftfreq, fftshift\n",
    "%matplotlib inline\n"
   ]
  },
  {
   "cell_type": "code",
   "execution_count": null,
   "id": "63f417df",
   "metadata": {},
   "outputs": [],
   "source": [
    "\n",
    "# Parameters\n",
    "L = 10.0\n",
    "N = 1024\n",
    "x = np.linspace(0, L, N, endpoint=False)\n",
    "k = fftfreq(N, d=L/N) * 2*np.pi   # angular wavenumbers\n",
    "alpha = 1.8\n",
    "def frac_lap(u_hat):\n",
    "    return (np.abs(k)**alpha) * u_hat\n"
   ]
  },
  {
   "cell_type": "code",
   "execution_count": null,
   "id": "eaeed6c4",
   "metadata": {},
   "outputs": [],
   "source": [
    "\n",
    "# Initial condition: Gaussian packet\n",
    "x0 = L/2\n",
    "sigma = 0.4\n",
    "u0 = np.exp(-0.5*((x-x0)/sigma)**2) * np.exp(1j*5*(x-x0))\n",
    "u_hat = fft(u0)\n"
   ]
  },
  {
   "cell_type": "code",
   "execution_count": null,
   "id": "4251597b",
   "metadata": {},
   "outputs": [],
   "source": [
    "\n",
    "# Define Luminissance spectral multiplier sigma(k) = 1 - eps s(k) + i eta(k)\n",
    "eps = 1e-2\n",
    "eta0 = 5e-3   # small dissipation peak\n",
    "k0 = 5.0\n",
    "s = np.exp(-0.5*((np.abs(k)-k0)/0.5)**2)\n",
    "eta = eta0 * s\n",
    "sigma = 1.0 - eps * s + 1j * eta\n"
   ]
  },
  {
   "cell_type": "code",
   "execution_count": null,
   "id": "784c4da6",
   "metadata": {},
   "outputs": [],
   "source": [
    "\n",
    "# Apply Luminissance multiplier and plot spectra\n",
    "U_hat_after = sigma * u_hat\n",
    "P_before = np.abs(u_hat)**2\n",
    "P_after = np.abs(U_hat_after)**2\n",
    "plt.figure(figsize=(8,4))\n",
    "plt.semilogy(fftshift(P_before)+1e-16, label='before')\n",
    "plt.semilogy(fftshift(P_after)+1e-16, label='after (Luminissance)')\n",
    "plt.title('Spectral power before/after Luminissance (log scale)')\n",
    "plt.legend()\n",
    "plt.xlabel('mode index')\n",
    "plt.show()\n"
   ]
  },
  {
   "cell_type": "markdown",
   "id": "afd21467",
   "metadata": {},
   "source": [
    "This minimal demo shows how a spectral multiplier `sigma(k)` modifies modal amplitudes. For dynamics you can integrate in time using splitting/ETD methods; see `parameter_sweep.ipynb`."
   ]
  }
 ],
 "metadata": {},
 "nbformat": 4,
 "nbformat_minor": 5
}
